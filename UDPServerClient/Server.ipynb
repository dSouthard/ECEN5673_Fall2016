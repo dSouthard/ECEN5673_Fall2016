{
 "cells": [
  {
   "cell_type": "code",
   "execution_count": 3,
   "metadata": {
    "collapsed": false
   },
   "outputs": [
    {
     "ename": "TypeError",
     "evalue": "a bytes-like object is required, not 'str'",
     "output_type": "error",
     "traceback": [
      "\u001b[0;31m---------------------------------------------------------------------------\u001b[0m",
      "\u001b[0;31mTypeError\u001b[0m                                 Traceback (most recent call last)",
      "\u001b[0;32m<ipython-input-3-6053d44d571a>\u001b[0m in \u001b[0;36m<module>\u001b[0;34m()\u001b[0m\n\u001b[1;32m     32\u001b[0m \u001b[0;31m# Repeatedly send to give client time to receive data\u001b[0m\u001b[0;34m\u001b[0m\u001b[0;34m\u001b[0m\u001b[0m\n\u001b[1;32m     33\u001b[0m \u001b[0;32mwhile\u001b[0m \u001b[0;36m1\u001b[0m\u001b[0;34m:\u001b[0m\u001b[0;34m\u001b[0m\u001b[0m\n\u001b[0;32m---> 34\u001b[0;31m     \u001b[0msckt\u001b[0m\u001b[0;34m.\u001b[0m\u001b[0msendto\u001b[0m\u001b[0;34m(\u001b[0m\u001b[0mdata\u001b[0m\u001b[0;34m,\u001b[0m \u001b[0;34m(\u001b[0m\u001b[0mHOST\u001b[0m\u001b[0;34m,\u001b[0m\u001b[0mPORT\u001b[0m\u001b[0;34m)\u001b[0m\u001b[0;34m)\u001b[0m   \u001b[0;31m# Send data\u001b[0m\u001b[0;34m\u001b[0m\u001b[0m\n\u001b[0m\u001b[1;32m     35\u001b[0m     \u001b[0mprint\u001b[0m\u001b[0;34m(\u001b[0m\u001b[0;34m\"sent: \"\u001b[0m \u001b[0;34m+\u001b[0m \u001b[0mdata\u001b[0m\u001b[0;34m)\u001b[0m\u001b[0;34m\u001b[0m\u001b[0m\n\u001b[1;32m     36\u001b[0m     \u001b[0mtime\u001b[0m\u001b[0;34m.\u001b[0m\u001b[0msleep\u001b[0m\u001b[0;34m(\u001b[0m\u001b[0;36m1\u001b[0m\u001b[0;34m)\u001b[0m   \u001b[0;31m# Put the program to sleep for 1 second\u001b[0m\u001b[0;34m\u001b[0m\u001b[0m\n",
      "\u001b[0;31mTypeError\u001b[0m: a bytes-like object is required, not 'str'"
     ]
    }
   ],
   "source": [
    "# # Server.ipynb\n",
    "# Author: Diana Southard\n",
    "# ECEN 5673: HW 1\n",
    "#\n",
    "# Write a simple UDP client/server program where the client sends a UDP message to ther server\n",
    "# and the server sends a reply to the client.\n",
    "#\n",
    "# Based off the concepts shown on the Intro Python Networking - UDP YouTube video by largestpixel\n",
    "# https://youtu.be/vNVMlXLGrTE\n",
    "\n",
    "# Import necessary libraries\n",
    "import socket    # Necessary to establish connections\n",
    "import time      # Necessary to measure local clock times for measuring message transit times\n",
    "\n",
    "# Establish address of the client\n",
    "# localhost = client is on the same machine\n",
    "# 127.0..1 = machine LAN/loopback address, client is in same domain\n",
    "#  = client is in a different geographical location, connected via the internet\n",
    "HOST = \"localhost\"\n",
    "\n",
    "# Can select any port, so long as it's used by both the client and the server\n",
    "# Prefer to select ports over 1024 -> lower ports have default services assigned\n",
    "PORT = 5454\n",
    "\n",
    "# Data to be sent\n",
    "data = \"Just some text.\"\n",
    "\n",
    "# Create a socket using IPv4 (AF_INET), with UDP protocol (SOCK_DGRAM) \n",
    "sckt = socket.socket(socket.AF_INET, socket.SOCK_DGRAM)\n",
    "\n",
    "# Send data by selecting socket, giving it the desired data, the address of the client, and which port to use\n",
    "# Repeatedly send to give client time to receive data\n",
    "while 1:\n",
    "    sckt.sendto(data, (HOST,PORT))   # Send data\n",
    "    print(\"sent: \" + data)\n",
    "    time.sleep(1)   # Put the program to sleep for 1 second\n",
    "    \n",
    "\n",
    "\n"
   ]
  },
  {
   "cell_type": "code",
   "execution_count": null,
   "metadata": {
    "collapsed": true
   },
   "outputs": [],
   "source": []
  }
 ],
 "metadata": {
  "kernelspec": {
   "display_name": "Python 3",
   "language": "python",
   "name": "python3"
  },
  "language_info": {
   "codemirror_mode": {
    "name": "ipython",
    "version": 3
   },
   "file_extension": ".py",
   "mimetype": "text/x-python",
   "name": "python",
   "nbconvert_exporter": "python",
   "pygments_lexer": "ipython3",
   "version": "3.5.2"
  }
 },
 "nbformat": 4,
 "nbformat_minor": 0
}
