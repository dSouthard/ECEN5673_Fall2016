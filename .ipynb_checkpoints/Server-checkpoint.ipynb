{
 "cells": [
  {
   "cell_type": "code",
   "execution_count": null,
   "metadata": {
    "collapsed": true
   },
   "outputs": [],
   "source": [
    "# # Server.ipynb\n",
    "# Author: Diana Southard\n",
    "# ECEN 5673: HW 1\n",
    "#\n",
    "# Write a simple UDP client/server program where the client sends a UDP message to ther server\n",
    "# and the server sends a reply to the client.\n",
    "#\n",
    "# Based off the concepts shown on the Intro Python Networking - UDP YouTube video by largestpixel\n",
    "# https://youtu.be/vNVMlXLGrTE\n",
    "\n",
    "# Import necessary libraries\n",
    "import socket    # Necessary to establish connections\n",
    "import time      # Necessary to measure local clock times for measuring message transit times\n",
    "\n",
    "# Establish address of the client\n",
    "# localhost = client is on the same machine\n",
    "# 127.0..1 = machine LAN/loopback address, client is in same domain\n",
    "#  = client is in a different geographical location, connected via the internet\n",
    "HOST = \"localhost\"\n",
    "\n",
    "# Can select any port, so long as it's used by both the client and the server\n",
    "# Prefer to select ports over 1024 -> lower ports have default services assigned\n",
    "PORT = 5454\n",
    "\n"
   ]
  }
 ],
 "metadata": {
  "kernelspec": {
   "display_name": "Python 3",
   "language": "python",
   "name": "python3"
  },
  "language_info": {
   "codemirror_mode": {
    "name": "ipython",
    "version": 3
   },
   "file_extension": ".py",
   "mimetype": "text/x-python",
   "name": "python",
   "nbconvert_exporter": "python",
   "pygments_lexer": "ipython3",
   "version": "3.5.2"
  }
 },
 "nbformat": 4,
 "nbformat_minor": 0
}
